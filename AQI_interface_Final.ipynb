{
  "nbformat": 4,
  "nbformat_minor": 0,
  "metadata": {
    "colab": {
      "provenance": []
    },
    "kernelspec": {
      "name": "python3",
      "display_name": "Python 3"
    },
    "language_info": {
      "name": "python"
    }
  },
  "cells": [
    {
      "cell_type": "code",
      "source": [
        "!pip install gradio"
      ],
      "metadata": {
        "id": "Y54QUxAvtoVA"
      },
      "execution_count": null,
      "outputs": []
    },
    {
      "cell_type": "code",
      "execution_count": 2,
      "metadata": {
        "id": "p0r1dVV5ML3O"
      },
      "outputs": [],
      "source": [
        "import pickle"
      ]
    },
    {
      "cell_type": "code",
      "source": [
        "def predict(month,district):\n",
        "  m = {'January': 0,'February': 1,'March': 2,'April': 3,\"May\": 4,'June': 5,'July': 6,'August': 7,'September':8,'October': 9,'November': 10,'December': 11}\n",
        "  pred=0\n",
        "  if (district == \"Adilabad\"):\n",
        "    adil_mod = pickle.load(open('Adilabad_Model.pkl','rb'))\n",
        "    adil_pred = adil_mod.predict('2022-12-01','2023-12-01')[1:]\n",
        "    pred = adil_pred.values[m[month]]\n",
        "  elif (district == 'Khammam'):\n",
        "    kham_mod = pickle.load(open('Khammam_Model.pkl','rb'))\n",
        "    kham_pred = kham_mod.predict('2022-12-01','2023-12-01')[1:]\n",
        "    pred = kham_pred.values[m[month]]\n",
        "  elif (district == 'Karimnagar'):\n",
        "    kari_mod = pickle.load(open('Karimnagar_Model.pkl','rb'))\n",
        "    kari_pred = kari_mod.predict('2022-12-01','2023-12-01')[1:]\n",
        "    pred = kari_pred.values[m[month]]\n",
        "  elif (district == 'Warangal'):\n",
        "    kuda_mod = pickle.load(open('Kuda_Model.pkl','rb'))\n",
        "    kuda_pred = kuda_mod.predict('2022-12-01','2023-12-01')[1:]\n",
        "    pred = kuda_pred.values[m[month]]\n",
        "  elif (district == 'Nizamabad'):\n",
        "    niza_mod = pickle.load(open('Nizamabad_Model.pkl','rb'))\n",
        "    niza_pred = niza_mod.predict('2022-12-01','2023-12-01')[1:]\n",
        "    pred = niza_pred.values[m[month]]\n",
        "  \n",
        "  return pred\n",
        "  "
      ],
      "metadata": {
        "id": "Y0_KIw6xMW_s"
      },
      "execution_count": 18,
      "outputs": []
    },
    {
      "cell_type": "code",
      "source": [
        "import gradio as gr\n",
        "\n",
        "demo = gr.Interface(\n",
        "    predict,\n",
        "    [\n",
        "        gr.Dropdown([\"January\", \"February\", \"March\",\"April\",\"May\",\"June\",\"July\",\"August\",\"September\",\"October\",\"November\",\"December\"]),\n",
        "        gr.Radio([\"Adilabad\", \"Nizamabad\", \"Karimnagar\",\"Khammam\",\"Warangal\"]),\n",
        "    ],\n",
        "    \"text\",\n",
        ")\n",
        "\n",
        "if __name__ == \"__main__\":\n",
        "    demo.launch(share=True,debug=True)\n"
      ],
      "metadata": {
        "colab": {
          "base_uri": "https://localhost:8080/",
          "height": 626
        },
        "id": "DnGRfd5ltsvc",
        "outputId": "52a51167-4c91-4964-aa27-418bcfffdc26"
      },
      "execution_count": 19,
      "outputs": [
        {
          "output_type": "stream",
          "name": "stdout",
          "text": [
            "Colab notebook detected. This cell will run indefinitely so that you can see errors and logs. To turn off, set debug=False in launch().\n",
            "Running on public URL: https://90e8ae2be966a3f63c.gradio.live\n",
            "\n",
            "This share link expires in 72 hours. For free permanent hosting and GPU upgrades (NEW!), check out Spaces: https://huggingface.co/spaces\n"
          ]
        },
        {
          "output_type": "display_data",
          "data": {
            "text/plain": [
              "<IPython.core.display.HTML object>"
            ],
            "text/html": [
              "<div><iframe src=\"https://90e8ae2be966a3f63c.gradio.live\" width=\"100%\" height=\"500\" allow=\"autoplay; camera; microphone; clipboard-read; clipboard-write;\" frameborder=\"0\" allowfullscreen></iframe></div>"
            ]
          },
          "metadata": {}
        },
        {
          "output_type": "stream",
          "name": "stdout",
          "text": [
            "Keyboard interruption in main thread... closing server.\n",
            "Killing tunnel 127.0.0.1:7862 <> https://90e8ae2be966a3f63c.gradio.live\n"
          ]
        }
      ]
    },
    {
      "cell_type": "code",
      "source": [
        "predict(\"Adilabad\",\"March\")"
      ],
      "metadata": {
        "colab": {
          "base_uri": "https://localhost:8080/"
        },
        "id": "9xkcHDhLm7VJ",
        "outputId": "30fddea4-2873-454c-db67-9995443673f2"
      },
      "execution_count": 11,
      "outputs": [
        {
          "output_type": "execute_result",
          "data": {
            "text/plain": [
              "62.29057888171016"
            ]
          },
          "metadata": {},
          "execution_count": 11
        }
      ]
    },
    {
      "cell_type": "code",
      "execution_count": 9,
      "metadata": {
        "colab": {
          "base_uri": "https://localhost:8080/"
        },
        "id": "J1xxJMsutHCM",
        "outputId": "536e541f-538a-4bd2-b2e5-49b399a26989"
      },
      "outputs": [
        {
          "output_type": "stream",
          "name": "stdout",
          "text": [
            "Drive already mounted at /content/drive; to attempt to forcibly remount, call drive.mount(\"/content/drive\", force_remount=True).\n"
          ]
        }
      ],
      "source": [
        "from google.colab import drive\n",
        "drive.mount('/content/drive')"
      ]
    },
    {
      "cell_type": "code",
      "source": [
        "import os\n",
        "import shutil\n",
        "os.chdir(\"/content/drive/MyDrive/Nasscom/Final_Five\")\n",
        "print(os.getcwd())"
      ],
      "metadata": {
        "colab": {
          "base_uri": "https://localhost:8080/"
        },
        "id": "nzlppg2TttxF",
        "outputId": "8b8e9397-25f6-43a3-82d5-0f9b37f81b59"
      },
      "execution_count": 10,
      "outputs": [
        {
          "output_type": "stream",
          "name": "stdout",
          "text": [
            "/content/drive/.shortcut-targets-by-id/1YlMLFzLEyPeRzVzPiY1QdXDP13IfS7N6/Nasscom/Final_Five\n"
          ]
        }
      ]
    }
  ]
}