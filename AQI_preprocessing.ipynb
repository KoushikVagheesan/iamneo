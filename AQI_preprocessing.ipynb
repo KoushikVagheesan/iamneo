{
  "nbformat": 4,
  "nbformat_minor": 0,
  "metadata": {
    "colab": {
      "provenance": []
    },
    "kernelspec": {
      "name": "python3",
      "display_name": "Python 3"
    },
    "language_info": {
      "name": "python"
    }
  },
  "cells": [
    {
      "cell_type": "code",
      "execution_count": null,
      "metadata": {
        "id": "KzVFAIJa8XqP"
      },
      "outputs": [],
      "source": [
        "import pandas as pd\n",
        "import datetime as dt"
      ]
    },
    {
      "cell_type": "code",
      "source": [
        "df = pd.read_csv('Kuda_AQI.csv')\n",
        "df = df.drop('Unnamed: 0',axis=1)\n",
        "print(df)"
      ],
      "metadata": {
        "colab": {
          "base_uri": "https://localhost:8080/"
        },
        "id": "5chVz3bb8376",
        "outputId": "5269456c-e66c-4e72-9606-4363e574e2c9"
      },
      "execution_count": null,
      "outputs": [
        {
          "output_type": "stream",
          "name": "stdout",
          "text": [
            "          time  value\n",
            "0   2016-01-01     73\n",
            "1   2016-01-02     72\n",
            "2   2016-01-03     68\n",
            "3   2016-01-04     74\n",
            "4   2016-01-05     76\n",
            "..         ...    ...\n",
            "79  2022-08-01     43\n",
            "80  2022-09-01     41\n",
            "81  2022-10-01     64\n",
            "82  2022-11-01     49\n",
            "83  2022-12-01    116\n",
            "\n",
            "[84 rows x 2 columns]\n"
          ]
        }
      ]
    },
    {
      "cell_type": "code",
      "source": [
        "df['time']= pd.to_datetime(df['time'],format='%Y-%m-%d').dt.strftime('%Y-%d-%m')\n",
        "df['time'][:36]= pd.to_datetime(df['time'][:36],format='%Y-%m-%d').dt.strftime('%Y-%d-%m')\n",
        "print(df)"
      ],
      "metadata": {
        "colab": {
          "base_uri": "https://localhost:8080/"
        },
        "id": "VSVId8-W9EkH",
        "outputId": "87db8398-af8a-474b-eadc-167ded48ddfd"
      },
      "execution_count": null,
      "outputs": [
        {
          "output_type": "stream",
          "name": "stdout",
          "text": [
            "          time  value\n",
            "0   2016-01-01     73\n",
            "1   2016-01-02     72\n",
            "2   2016-01-03     68\n",
            "3   2016-01-04     74\n",
            "4   2016-01-05     76\n",
            "..         ...    ...\n",
            "79  2022-01-08     43\n",
            "80  2022-01-09     41\n",
            "81  2022-01-10     64\n",
            "82  2022-01-11     49\n",
            "83  2022-01-12    116\n",
            "\n",
            "[84 rows x 2 columns]\n"
          ]
        },
        {
          "output_type": "stream",
          "name": "stderr",
          "text": [
            "<ipython-input-11-87e3b12af19b>:2: SettingWithCopyWarning: \n",
            "A value is trying to be set on a copy of a slice from a DataFrame\n",
            "\n",
            "See the caveats in the documentation: https://pandas.pydata.org/pandas-docs/stable/user_guide/indexing.html#returning-a-view-versus-a-copy\n",
            "  df['time'][:36]= pd.to_datetime(df['time'][:36],format='%Y-%m-%d').dt.strftime('%Y-%d-%m')\n"
          ]
        }
      ]
    },
    {
      "cell_type": "code",
      "source": [
        "df['time']= pd.to_datetime(df['time'],format='%Y-%m-%d').dt.strftime('%Y-%d-%m')\n",
        "print(df)"
      ],
      "metadata": {
        "colab": {
          "base_uri": "https://localhost:8080/"
        },
        "id": "VOhNXn-G_S67",
        "outputId": "913b3d08-46f3-467b-dcef-1c6dcf86e7e0"
      },
      "execution_count": null,
      "outputs": [
        {
          "output_type": "stream",
          "name": "stdout",
          "text": [
            "          time  value\n",
            "0   2016-01-01     73\n",
            "1   2016-02-01     72\n",
            "2   2016-03-01     68\n",
            "3   2016-04-01     74\n",
            "4   2016-05-01     76\n",
            "..         ...    ...\n",
            "79  2022-08-01     43\n",
            "80  2022-09-01     41\n",
            "81  2022-10-01     64\n",
            "82  2022-11-01     49\n",
            "83  2022-12-01    116\n",
            "\n",
            "[84 rows x 2 columns]\n"
          ]
        }
      ]
    },
    {
      "cell_type": "code",
      "source": [
        "df.to_csv('Kuda_AQI.csv')"
      ],
      "metadata": {
        "id": "7Ip9opKY_XMn"
      },
      "execution_count": null,
      "outputs": []
    }
  ]
}